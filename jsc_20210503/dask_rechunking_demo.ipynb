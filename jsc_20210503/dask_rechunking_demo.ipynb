{
 "cells": [
  {
   "cell_type": "markdown",
   "id": "f6dfe94b-04e3-4305-9b48-766f0126ff3a",
   "metadata": {},
   "source": [
    "## Generate a collection of images, preprocess them, and save in a chunked store"
   ]
  },
  {
   "cell_type": "markdown",
   "id": "310bb21a-0a26-4ced-ac13-0258704e8613",
   "metadata": {},
   "source": [
    "Create the ingredients for an imaging dataset:\n",
    "\n",
    "- a function that produces an image (here, a numpy array)\n",
    "- a function that generates a file on disk containing the image data"
   ]
  },
  {
   "cell_type": "code",
   "execution_count": 1,
   "id": "ebc757b6-4993-4ae8-8789-1d6f073ab820",
   "metadata": {},
   "outputs": [],
   "source": [
    "import matplotlib.pyplot as plt\n",
    "import numpy as np\n",
    "import atexit\n",
    "import os\n",
    "import shutil\n",
    "import time\n",
    "from tifffile import imsave\n",
    "\n",
    "def get_tmpdir(path):\n",
    "    if os.path.exists(path):\n",
    "        shutil.rmtree(path)\n",
    "    os.makedirs(path, exist_ok=True)\n",
    "    return path\n",
    "\n",
    "def get_img(z):\n",
    "    y,x = np.meshgrid(np.arange(-256,256), np.arange(-256,256))\n",
    "    time.sleep(.025)\n",
    "    return (y ^ x ^ z).astype('uint8')\n",
    "\n",
    "def save_img(img, fname):\n",
    "    try:\n",
    "        imsave(fname, img)\n",
    "        return 0\n",
    "    except:\n",
    "        return 1"
   ]
  },
  {
   "cell_type": "code",
   "execution_count": 2,
   "id": "1ee072f5-888a-424e-a7bd-b51efd039559",
   "metadata": {},
   "outputs": [
    {
     "name": "stdout",
     "output_type": "stream",
     "text": [
      "True\n",
      "CPU times: user 506 ms, sys: 489 ms, total: 995 ms\n",
      "Wall time: 13.8 s\n"
     ]
    }
   ],
   "source": [
    "%%time\n",
    "results = []\n",
    "tmpdir = get_tmpdir('data1')\n",
    "for z in range(512):\n",
    "    fname = os.path.join(tmpdir, str(z).zfill(4) + '.tif')\n",
    "    img = get_img(z)\n",
    "    results.append(save_img(img, fname))\n",
    "\n",
    "print(np.all(np.array(results) == 0))"
   ]
  },
  {
   "cell_type": "code",
   "execution_count": 3,
   "id": "cf54648c-557b-46da-8c10-091d52eb6ef9",
   "metadata": {},
   "outputs": [
    {
     "data": {
      "text/html": [
       "<table style=\"border: 2px solid white;\">\n",
       "<tr>\n",
       "<td style=\"vertical-align: top; border: 0px solid white\">\n",
       "<h3 style=\"text-align: left;\">Client</h3>\n",
       "<ul style=\"text-align: left; list-style: none; margin: 0; padding: 0;\">\n",
       "  <li><b>Scheduler: </b>tcp://127.0.0.1:35349</li>\n",
       "  <li><b>Dashboard: </b><a href='http://127.0.0.1:8787/status' target='_blank'>http://127.0.0.1:8787/status</a></li>\n",
       "</ul>\n",
       "</td>\n",
       "<td style=\"vertical-align: top; border: 0px solid white\">\n",
       "<h3 style=\"text-align: left;\">Cluster</h3>\n",
       "<ul style=\"text-align: left; list-style:none; margin: 0; padding: 0;\">\n",
       "  <li><b>Workers: </b>6</li>\n",
       "  <li><b>Cores: </b>24</li>\n",
       "  <li><b>Memory: </b>31.33 GiB</li>\n",
       "</ul>\n",
       "</td>\n",
       "</tr>\n",
       "</table>"
      ],
      "text/plain": [
       "<Client: 'tcp://127.0.0.1:35349' processes=6 threads=24, memory=31.33 GiB>"
      ]
     },
     "execution_count": 3,
     "metadata": {},
     "output_type": "execute_result"
    }
   ],
   "source": [
    "from distributed import Client, LocalCluster\n",
    "\n",
    "cluster = LocalCluster()\n",
    "client = Client(cluster)\n",
    "client"
   ]
  },
  {
   "cell_type": "code",
   "execution_count": 4,
   "id": "085218fd-50a1-42e7-9877-f4d4c0c2ebe4",
   "metadata": {},
   "outputs": [
    {
     "name": "stdout",
     "output_type": "stream",
     "text": [
      "True\n",
      "CPU times: user 635 ms, sys: 69.8 ms, total: 705 ms\n",
      "Wall time: 830 ms\n"
     ]
    }
   ],
   "source": [
    "%%time\n",
    "from distributed import fire_and_forget\n",
    "futures = []\n",
    "tmpdir2 = get_tmpdir('data2')\n",
    "\n",
    "for z in range(512):\n",
    "    fname = os.path.join(tmpdir2, str(z).zfill(4) + '.tif')\n",
    "    img = client.submit(get_img, z)\n",
    "    futures.append(client.submit(save_img, img, fname))\n",
    "    \n",
    "results = client.gather(futures)\n",
    "\n",
    "print(np.all(np.array(results) == 0))"
   ]
  },
  {
   "cell_type": "markdown",
   "id": "29c1bbbd-1b75-4e12-bdef-80c931310e03",
   "metadata": {},
   "source": [
    "## Rechunk image data "
   ]
  },
  {
   "cell_type": "code",
   "execution_count": 5,
   "id": "67912a42-31dd-4c11-99a3-b299ac4a248b",
   "metadata": {},
   "outputs": [
    {
     "data": {
      "text/html": [
       "<table>\n",
       "<tr>\n",
       "<td>\n",
       "<table>\n",
       "  <thead>\n",
       "    <tr><td> </td><th> Array </th><th> Chunk </th></tr>\n",
       "  </thead>\n",
       "  <tbody>\n",
       "    <tr><th> Bytes </th><td> 128.00 MiB </td> <td> 256.00 kiB </td></tr>\n",
       "    <tr><th> Shape </th><td> (512, 512, 512) </td> <td> (1, 512, 512) </td></tr>\n",
       "    <tr><th> Count </th><td> 1024 Tasks </td><td> 512 Chunks </td></tr>\n",
       "    <tr><th> Type </th><td> uint8 </td><td> numpy.ndarray </td></tr>\n",
       "  </tbody>\n",
       "</table>\n",
       "</td>\n",
       "<td>\n",
       "<svg width=\"250\" height=\"240\" style=\"stroke:rgb(0,0,0);stroke-width:1\" >\n",
       "\n",
       "  <!-- Horizontal lines -->\n",
       "  <line x1=\"10\" y1=\"0\" x2=\"80\" y2=\"70\" style=\"stroke-width:2\" />\n",
       "  <line x1=\"10\" y1=\"120\" x2=\"80\" y2=\"190\" style=\"stroke-width:2\" />\n",
       "\n",
       "  <!-- Vertical lines -->\n",
       "  <line x1=\"10\" y1=\"0\" x2=\"10\" y2=\"120\" style=\"stroke-width:2\" />\n",
       "  <line x1=\"13\" y1=\"3\" x2=\"13\" y2=\"123\" />\n",
       "  <line x1=\"17\" y1=\"7\" x2=\"17\" y2=\"127\" />\n",
       "  <line x1=\"21\" y1=\"11\" x2=\"21\" y2=\"131\" />\n",
       "  <line x1=\"24\" y1=\"14\" x2=\"24\" y2=\"134\" />\n",
       "  <line x1=\"28\" y1=\"18\" x2=\"28\" y2=\"138\" />\n",
       "  <line x1=\"32\" y1=\"22\" x2=\"32\" y2=\"142\" />\n",
       "  <line x1=\"35\" y1=\"25\" x2=\"35\" y2=\"145\" />\n",
       "  <line x1=\"39\" y1=\"29\" x2=\"39\" y2=\"149\" />\n",
       "  <line x1=\"43\" y1=\"33\" x2=\"43\" y2=\"153\" />\n",
       "  <line x1=\"47\" y1=\"37\" x2=\"47\" y2=\"157\" />\n",
       "  <line x1=\"50\" y1=\"40\" x2=\"50\" y2=\"160\" />\n",
       "  <line x1=\"54\" y1=\"44\" x2=\"54\" y2=\"164\" />\n",
       "  <line x1=\"58\" y1=\"48\" x2=\"58\" y2=\"168\" />\n",
       "  <line x1=\"61\" y1=\"51\" x2=\"61\" y2=\"171\" />\n",
       "  <line x1=\"65\" y1=\"55\" x2=\"65\" y2=\"175\" />\n",
       "  <line x1=\"69\" y1=\"59\" x2=\"69\" y2=\"179\" />\n",
       "  <line x1=\"73\" y1=\"63\" x2=\"73\" y2=\"183\" />\n",
       "  <line x1=\"76\" y1=\"66\" x2=\"76\" y2=\"186\" />\n",
       "  <line x1=\"80\" y1=\"70\" x2=\"80\" y2=\"190\" style=\"stroke-width:2\" />\n",
       "\n",
       "  <!-- Colored Rectangle -->\n",
       "  <polygon points=\"10.0,0.0 80.58823529411765,70.58823529411765 80.58823529411765,190.58823529411765 10.0,120.0\" style=\"fill:#8B4903A0;stroke-width:0\"/>\n",
       "\n",
       "  <!-- Horizontal lines -->\n",
       "  <line x1=\"10\" y1=\"0\" x2=\"130\" y2=\"0\" style=\"stroke-width:2\" />\n",
       "  <line x1=\"13\" y1=\"3\" x2=\"133\" y2=\"3\" />\n",
       "  <line x1=\"17\" y1=\"7\" x2=\"137\" y2=\"7\" />\n",
       "  <line x1=\"21\" y1=\"11\" x2=\"141\" y2=\"11\" />\n",
       "  <line x1=\"24\" y1=\"14\" x2=\"144\" y2=\"14\" />\n",
       "  <line x1=\"28\" y1=\"18\" x2=\"148\" y2=\"18\" />\n",
       "  <line x1=\"32\" y1=\"22\" x2=\"152\" y2=\"22\" />\n",
       "  <line x1=\"35\" y1=\"25\" x2=\"155\" y2=\"25\" />\n",
       "  <line x1=\"39\" y1=\"29\" x2=\"159\" y2=\"29\" />\n",
       "  <line x1=\"43\" y1=\"33\" x2=\"163\" y2=\"33\" />\n",
       "  <line x1=\"47\" y1=\"37\" x2=\"167\" y2=\"37\" />\n",
       "  <line x1=\"50\" y1=\"40\" x2=\"170\" y2=\"40\" />\n",
       "  <line x1=\"54\" y1=\"44\" x2=\"174\" y2=\"44\" />\n",
       "  <line x1=\"58\" y1=\"48\" x2=\"178\" y2=\"48\" />\n",
       "  <line x1=\"61\" y1=\"51\" x2=\"181\" y2=\"51\" />\n",
       "  <line x1=\"65\" y1=\"55\" x2=\"185\" y2=\"55\" />\n",
       "  <line x1=\"69\" y1=\"59\" x2=\"189\" y2=\"59\" />\n",
       "  <line x1=\"73\" y1=\"63\" x2=\"193\" y2=\"63\" />\n",
       "  <line x1=\"76\" y1=\"66\" x2=\"196\" y2=\"66\" />\n",
       "  <line x1=\"80\" y1=\"70\" x2=\"200\" y2=\"70\" style=\"stroke-width:2\" />\n",
       "\n",
       "  <!-- Vertical lines -->\n",
       "  <line x1=\"10\" y1=\"0\" x2=\"80\" y2=\"70\" style=\"stroke-width:2\" />\n",
       "  <line x1=\"130\" y1=\"0\" x2=\"200\" y2=\"70\" style=\"stroke-width:2\" />\n",
       "\n",
       "  <!-- Colored Rectangle -->\n",
       "  <polygon points=\"10.0,0.0 130.0,0.0 200.58823529411765,70.58823529411765 80.58823529411765,70.58823529411765\" style=\"fill:#8B4903A0;stroke-width:0\"/>\n",
       "\n",
       "  <!-- Horizontal lines -->\n",
       "  <line x1=\"80\" y1=\"70\" x2=\"200\" y2=\"70\" style=\"stroke-width:2\" />\n",
       "  <line x1=\"80\" y1=\"190\" x2=\"200\" y2=\"190\" style=\"stroke-width:2\" />\n",
       "\n",
       "  <!-- Vertical lines -->\n",
       "  <line x1=\"80\" y1=\"70\" x2=\"80\" y2=\"190\" style=\"stroke-width:2\" />\n",
       "  <line x1=\"200\" y1=\"70\" x2=\"200\" y2=\"190\" style=\"stroke-width:2\" />\n",
       "\n",
       "  <!-- Colored Rectangle -->\n",
       "  <polygon points=\"80.58823529411765,70.58823529411765 200.58823529411765,70.58823529411765 200.58823529411765,190.58823529411765 80.58823529411765,190.58823529411765\" style=\"fill:#ECB172A0;stroke-width:0\"/>\n",
       "\n",
       "  <!-- Text -->\n",
       "  <text x=\"140.588235\" y=\"210.588235\" font-size=\"1.0rem\" font-weight=\"100\" text-anchor=\"middle\" >512</text>\n",
       "  <text x=\"220.588235\" y=\"130.588235\" font-size=\"1.0rem\" font-weight=\"100\" text-anchor=\"middle\" transform=\"rotate(-90,220.588235,130.588235)\">512</text>\n",
       "  <text x=\"35.294118\" y=\"175.294118\" font-size=\"1.0rem\" font-weight=\"100\" text-anchor=\"middle\" transform=\"rotate(45,35.294118,175.294118)\">512</text>\n",
       "</svg>\n",
       "</td>\n",
       "</tr>\n",
       "</table>"
      ],
      "text/plain": [
       "dask.array<_map_read_frame, shape=(512, 512, 512), dtype=uint8, chunksize=(1, 512, 512), chunktype=numpy.ndarray>"
      ]
     },
     "execution_count": 5,
     "metadata": {},
     "output_type": "execute_result"
    }
   ],
   "source": [
    "import dask.array as da\n",
    "from dask_image.imread import imread as dimread\n",
    "\n",
    "darr = dimread(tmpdir2 + '/*.tif')\n",
    "darr"
   ]
  },
  {
   "cell_type": "markdown",
   "id": "6ebdc072-ed8f-4785-b32a-9795a9c5ce98",
   "metadata": {},
   "source": [
    "# Generate a multiresolution pyramid"
   ]
  },
  {
   "cell_type": "code",
   "execution_count": 7,
   "id": "711de251-9415-4c4a-8526-a8a80b0dfb50",
   "metadata": {},
   "outputs": [],
   "source": [
    "iso_chunks = (64,) * darr.ndim \n",
    "reducer = np.mean\n",
    "pyramid = {}\n",
    "pyramid['s0'] = darr\n",
    "pyramid['s1'] = da.coarsen(reducer, darr, {k: 2 for k in range(darr.ndim)}).astype(darr.dtype)\n",
    "pyramid = {k: v.rechunk(iso_chunks) for k,v in pyramid.items()}"
   ]
  },
  {
   "cell_type": "code",
   "execution_count": 8,
   "id": "6c139cbf-f6d8-4f68-9082-1d24c6f94075",
   "metadata": {},
   "outputs": [],
   "source": [
    "import zarr\n",
    "from numcodecs import GZip\n",
    "n5_path = os.path.join(get_tmpdir( 'test.n5'))\n",
    "save_chunks = (64,) * darr.ndim\n",
    "\n",
    "neuroglancer_attributes = {'axes' : ['z','y','x'], 'scales': [[1,1,1], [2,2,2]], 'unit': 'nm'}\n",
    "group = zarr.open(zarr.N5Store(n5_path), mode='w')\n",
    "group.attrs.update(neuroglancer_attributes)\n",
    "\n",
    "arrays = []\n",
    "for k,v in pyramid.items():\n",
    "    arrays.append(group.zeros(name=k, shape=v.shape, dtype=v.dtype, chunks=save_chunks, compressor=GZip(-1)))"
   ]
  },
  {
   "cell_type": "code",
   "execution_count": 9,
   "id": "26aa7164-7d14-45ca-af03-e97c8f56a4d4",
   "metadata": {},
   "outputs": [],
   "source": [
    "da.store(pyramid.values(), arrays, lock=None)"
   ]
  },
  {
   "cell_type": "code",
   "execution_count": null,
   "id": "6236cca7-b699-490c-a0c5-97eaf968fab3",
   "metadata": {},
   "outputs": [
    {
     "name": "stdout",
     "output_type": "stream",
     "text": [
      "\u001b[32m\u001b[39m\n",
      "\u001b[32m   ┌───────────────────────────────────────────────────┐\u001b[39m\n",
      "   \u001b[32m│\u001b[39m                                                   \u001b[32m│\u001b[39m\n",
      "   \u001b[32m│\u001b[39m   \u001b[32mServing!\u001b[39m                                        \u001b[32m│\u001b[39m\n",
      "   \u001b[32m│\u001b[39m                                                   \u001b[32m│\u001b[39m\n",
      "   \u001b[32m│\u001b[39m   \u001b[1m- Local:\u001b[22m            http://localhost:5000       \u001b[32m│\u001b[39m\n",
      "   \u001b[32m│\u001b[39m   \u001b[1m- On Your Network:\u001b[22m  http://192.168.1.154:5000   \u001b[32m│\u001b[39m\n",
      "   \u001b[32m│\u001b[39m                                                   \u001b[32m│\u001b[39m\n",
      "   \u001b[32m│\u001b[39m   \u001b[90mCopied local address to clipboard!\u001b[39m              \u001b[32m│\u001b[39m\n",
      "   \u001b[32m│\u001b[39m                                                   \u001b[32m│\u001b[39m\n",
      "\u001b[32m   └───────────────────────────────────────────────────┘\u001b[39m\n",
      "\u001b[32m\u001b[39m\n"
     ]
    }
   ],
   "source": [
    "!serve --cors $n5_path"
   ]
  },
  {
   "cell_type": "code",
   "execution_count": null,
   "id": "a7e92d69-a955-4e3c-a4ed-d48c1d879ead",
   "metadata": {},
   "outputs": [],
   "source": []
  }
 ],
 "metadata": {
  "kernelspec": {
   "display_name": "Python 3",
   "language": "python",
   "name": "python3"
  },
  "language_info": {
   "codemirror_mode": {
    "name": "ipython",
    "version": 3
   },
   "file_extension": ".py",
   "mimetype": "text/x-python",
   "name": "python",
   "nbconvert_exporter": "python",
   "pygments_lexer": "ipython3",
   "version": "3.8.8"
  }
 },
 "nbformat": 4,
 "nbformat_minor": 5
}
