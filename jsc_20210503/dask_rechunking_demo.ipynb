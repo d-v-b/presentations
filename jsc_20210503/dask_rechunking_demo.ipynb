{
 "cells": [
  {
   "cell_type": "markdown",
   "id": "f6dfe94b-04e3-4305-9b48-766f0126ff3a",
   "metadata": {},
   "source": [
    "## Generate a collection of images, preprocess them, and save in a chunked store"
   ]
  },
  {
   "cell_type": "markdown",
   "id": "310bb21a-0a26-4ced-ac13-0258704e8613",
   "metadata": {},
   "source": [
    "Create the ingredients for an imaging dataset:\n",
    "\n",
    "- a function that produces an image (here, a numpy array)\n",
    "- a function that generates a file on disk containing the image data"
   ]
  },
  {
   "cell_type": "code",
   "execution_count": null,
   "id": "ebc757b6-4993-4ae8-8789-1d6f073ab820",
   "metadata": {},
   "outputs": [],
   "source": [
    "import numpy as np\n",
    "import atexit\n",
    "import os\n",
    "import shutil\n",
    "import time\n",
    "from tifffile import imsave\n",
    "\n",
    "def get_tmpdir(path):\n",
    "    import atexit\n",
    "    import shutil\n",
    "    if os.path.exists(path):\n",
    "        shutil.rmtree(path)\n",
    "    os.makedirs(path, exist_ok=True)\n",
    "    atexit.register(shutil.rmtree, path)\n",
    "    return path\n",
    "\n",
    "def get_img(z):\n",
    "    y,x = np.meshgrid(np.arange(-256,256), np.arange(-256,256))\n",
    "    time.sleep(.025)\n",
    "    return (y ^ x ^ z).astype('uint8')\n",
    "\n",
    "def save_img(img, fname):\n",
    "    try:\n",
    "        imsave(fname, img)\n",
    "        return 0\n",
    "    except:\n",
    "        return 1"
   ]
  },
  {
   "cell_type": "markdown",
   "id": "8596116a-b4bf-48d2-b340-74ebd1ce2dff",
   "metadata": {},
   "source": [
    "### Save the images serially "
   ]
  },
  {
   "cell_type": "code",
   "execution_count": null,
   "id": "1ee072f5-888a-424e-a7bd-b51efd039559",
   "metadata": {},
   "outputs": [],
   "source": [
    "%%time\n",
    "results = []\n",
    "tmpdir = get_tmpdir('data1')\n",
    "\n",
    "for z in range(512):\n",
    "    fname = os.path.join(tmpdir, str(z).zfill(4) + '.tif')\n",
    "    img = get_img(z)\n",
    "    results.append(save_img(img, fname))\n",
    "\n",
    "print(np.all(np.array(results) == 0))"
   ]
  },
  {
   "cell_type": "markdown",
   "id": "2a8d91d3-a5e4-4bc7-a19b-85343b12ee41",
   "metadata": {},
   "source": [
    "### Save the images in parallel"
   ]
  },
  {
   "cell_type": "code",
   "execution_count": null,
   "id": "cf54648c-557b-46da-8c10-091d52eb6ef9",
   "metadata": {},
   "outputs": [],
   "source": [
    "from distributed import Client, LocalCluster\n",
    "\n",
    "cluster = LocalCluster()\n",
    "client = Client(cluster)\n",
    "client"
   ]
  },
  {
   "cell_type": "code",
   "execution_count": null,
   "id": "085218fd-50a1-42e7-9877-f4d4c0c2ebe4",
   "metadata": {},
   "outputs": [],
   "source": [
    "%%time\n",
    "futures = []\n",
    "tmpdir2 = get_tmpdir('data2')\n",
    "\n",
    "for z in range(512):\n",
    "    fname = os.path.join(tmpdir2, str(z).zfill(4) + '.tif')\n",
    "    img = client.submit(get_img, z)\n",
    "    futures.append(client.submit(save_img, img, fname))\n",
    "    \n",
    "results = client.gather(futures)\n",
    "\n",
    "print(np.all(np.array(results) == 0))"
   ]
  },
  {
   "cell_type": "markdown",
   "id": "29c1bbbd-1b75-4e12-bdef-80c931310e03",
   "metadata": {},
   "source": [
    "### Ingest image data "
   ]
  },
  {
   "cell_type": "code",
   "execution_count": null,
   "id": "67912a42-31dd-4c11-99a3-b299ac4a248b",
   "metadata": {},
   "outputs": [],
   "source": [
    "import dask.array as da\n",
    "from dask_image.imread import imread as dimread\n",
    "\n",
    "darr = dimread(tmpdir2 + '/*.tif')\n",
    "darr"
   ]
  },
  {
   "cell_type": "markdown",
   "id": "6ebdc072-ed8f-4785-b32a-9795a9c5ce98",
   "metadata": {},
   "source": [
    "### Generate a multiresolution pyramid"
   ]
  },
  {
   "cell_type": "code",
   "execution_count": null,
   "id": "711de251-9415-4c4a-8526-a8a80b0dfb50",
   "metadata": {},
   "outputs": [],
   "source": [
    "iso_chunks = (64,) * darr.ndim \n",
    "reducer = np.mean\n",
    "pyramid = {}\n",
    "pyramid['s0'] = darr\n",
    "pyramid['s1'] = da.coarsen(reducer, darr, {k: 2 for k in range(darr.ndim)}).astype(darr.dtype)\n",
    "pyramid['s2'] = da.coarsen(reducer, darr, {k: 4 for k in range(darr.ndim)}).astype(darr.dtype)\n",
    "pyramid = {k: v.rechunk(iso_chunks) for k,v in pyramid.items()}"
   ]
  },
  {
   "cell_type": "markdown",
   "id": "44bce980-e972-4ef4-90cd-8cf11c1d0e73",
   "metadata": {},
   "source": [
    "### Save multiresolution data to disk in a chunked format"
   ]
  },
  {
   "cell_type": "code",
   "execution_count": null,
   "id": "6c139cbf-f6d8-4f68-9082-1d24c6f94075",
   "metadata": {},
   "outputs": [],
   "source": [
    "import zarr\n",
    "from numcodecs import GZip\n",
    "\n",
    "n5_path = get_tmpdir( 'test.n5')\n",
    "save_chunks = (64,) * darr.ndim\n",
    "\n",
    "neuroglancer_attributes = {'axes' : ['z','y','x'], 'scales': [[1,1,1], [2,2,2], [4,4,4]], 'unit': 'nm'}\n",
    "\n",
    "group = zarr.open(zarr.N5Store(n5_path), mode='w')\n",
    "group.attrs.update(neuroglancer_attributes)\n",
    "\n",
    "arrays = []\n",
    "for k,v in pyramid.items():\n",
    "    arrays.append(group.zeros(name=k, shape=v.shape, dtype=v.dtype, chunks=save_chunks, compressor=GZip(-1)))"
   ]
  },
  {
   "cell_type": "code",
   "execution_count": null,
   "id": "26aa7164-7d14-45ca-af03-e97c8f56a4d4",
   "metadata": {},
   "outputs": [],
   "source": [
    "da.store(pyramid.values(), arrays, lock=None)"
   ]
  }
 ],
 "metadata": {
  "kernelspec": {
   "display_name": "Python 3",
   "language": "python",
   "name": "python3"
  },
  "language_info": {
   "codemirror_mode": {
    "name": "ipython",
    "version": 3
   },
   "file_extension": ".py",
   "mimetype": "text/x-python",
   "name": "python",
   "nbconvert_exporter": "python",
   "pygments_lexer": "ipython3",
   "version": "3.9.4"
  }
 },
 "nbformat": 4,
 "nbformat_minor": 5
}
