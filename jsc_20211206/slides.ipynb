{
 "cells": [
  {
   "cell_type": "markdown",
   "metadata": {},
   "source": [
    "# Static typing in Python \n",
    "\n",
    "Davis Bennett  \n",
    "Scicomp morning meeting  \n",
    "December 6, 2021\n"
   ]
  },
  {
   "cell_type": "markdown",
   "metadata": {},
   "source": [
    "* motivation\n",
    "    - what is static typing?\n",
    "    - why add static typing to a dynamic language?\n",
    "\n",
    "* usage\n",
    "    - type checking with `mypy`\n",
    "    - typed data structures with `pydantic`"
   ]
  },
  {
   "cell_type": "markdown",
   "metadata": {},
   "source": []
  },
  {
   "cell_type": "markdown",
   "metadata": {},
   "source": [
    "## What is static typing? \n",
    "\n",
    "A statically typed function in C:\n",
    "\n",
    "```C\n",
    "int add_one(int arg) {\n",
    "    return arg + 1;\n",
    "    }\n",
    "\n",
    "char bad_arg[] = \"not an int\";\n",
    "int foo = add_one(bad_arg); // errors when compiled\n",
    "```\n",
    "\n",
    "vs a dynamically typed function in Python:\n",
    "\n",
    "\n",
    "```python\n",
    "def add_one(arg):\n",
    "    return arg + 1\n",
    "\n",
    "bad_arg = \"not an int\"\n",
    "foo = add_one(bad_arg) # errors when run\n",
    "```"
   ]
  },
  {
   "cell_type": "markdown",
   "metadata": {},
   "source": [
    "Advantages of static typing:\n",
    "- Catch type errors before they happen\n",
    "- Makes complicated code easier to understand\n",
    "- Enables good performance \n",
    "\n",
    "Disadvantages: \n",
    "- Slower to write\n",
    "- More boilerplate code\n",
    "- Harder to write generic code"
   ]
  },
  {
   "cell_type": "markdown",
   "metadata": {},
   "source": [
    "Since Python 3.6, type annotations give Python some of the advantages of static typing: \n",
    "\n",
    "```python\n",
    "def add_one(arg: int) -> int:\n",
    "    return arg + 1\n",
    "\n",
    "bad_arg = \"not an int\"\n",
    "foo = add_one(bad_args) // errors when a typechecking tool is run, AND at runtime\n",
    "```\n",
    "feeding this program to the standard typechecker (`mypy`):  \n",
    "`error: Argument 1 to \"add_one\" has incompatible type \"str\"; expected \"int\"`\n"
   ]
  },
  {
   "cell_type": "markdown",
   "metadata": {},
   "source": [
    "The type system supports unions:\n",
    "\n",
    "```python\n",
    "from typing import Union, List\n",
    "def list_or_int(arg: int) -> Union[List, int]:\n",
    "    if arg % 2 == 0:\n",
    "        return []\n",
    "    else:\n",
    "        return 0\n",
    "```\n",
    "\n",
    "Generics: \n",
    "\n",
    "```python\n",
    "from typing import TypeVar\n",
    "T = TypeVar('T')\n",
    "def identity(arg: T) -> T:\n",
    "    return arg\n",
    "```\n",
    "\n",
    "and a catch-all `Any` type:\n",
    "\n",
    "```python\n",
    "from typing import Any\n",
    "blob: Any = load_data()\n",
    "blob += 10 # anything goes\n",
    "```"
   ]
  },
  {
   "cell_type": "markdown",
   "metadata": {},
   "source": []
  },
  {
   "cell_type": "markdown",
   "metadata": {},
   "source": []
  }
 ],
 "metadata": {
  "interpreter": {
   "hash": "e16710a6422405dc5d54cc7e6628db795e7d065982786d649cb749fb441e6b71"
  },
  "kernelspec": {
   "display_name": "Python 3.9.7 64-bit ('scicomp-meeting-20211206': conda)",
   "language": "python",
   "name": "python3"
  },
  "language_info": {
   "codemirror_mode": {
    "name": "ipython",
    "version": 3
   },
   "file_extension": ".py",
   "mimetype": "text/x-python",
   "name": "python",
   "nbconvert_exporter": "python",
   "pygments_lexer": "ipython3",
   "version": "3.9.7"
  },
  "orig_nbformat": 4
 },
 "nbformat": 4,
 "nbformat_minor": 2
}
