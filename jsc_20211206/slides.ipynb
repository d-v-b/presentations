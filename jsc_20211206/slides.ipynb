{
 "cells": [
  {
   "cell_type": "raw",
   "metadata": {
    "slideshow": {
     "slide_type": "-"
    }
   },
   "source": [
    "<link rel=\"stylesheet\" href=\"custom.css\" id=\"theme\">"
   ]
  },
  {
   "cell_type": "markdown",
   "metadata": {
    "slideshow": {
     "slide_type": "slide"
    },
    "tags": []
   },
   "source": [
    "# A brief introduction to static typing in Python \n",
    "\n",
    "Davis Bennett  \n",
    "Scicomp morning meeting  \n",
    "December 6, 2021\n",
    "\n",
    "These slides can be found in https://github.com/d-v-b/presentations/\n"
   ]
  },
  {
   "cell_type": "markdown",
   "metadata": {
    "slideshow": {
     "slide_type": "slide"
    }
   },
   "source": [
    "* motivation\n",
    "    - what is static typing?\n",
    "    - why add static typing to a dynamic language?"
   ]
  },
  {
   "cell_type": "markdown",
   "metadata": {
    "slideshow": {
     "slide_type": "fragment"
    }
   },
   "source": [
    "* usage\n",
    "    - type checking with `mypy`\n",
    "    - typed data structures with `pydantic`"
   ]
  },
  {
   "cell_type": "markdown",
   "metadata": {
    "slideshow": {
     "slide_type": "fragment"
    }
   },
   "source": [
    "* references\n",
    "    - python type hints docs: https://docs.python.org/3/library/typing.html\n",
    "    - pydantic docs: https://pydantic-docs.helpmanual.io/\n",
    "    - gradual typing (theory): https://en.wikipedia.org/wiki/Gradual_typing"
   ]
  },
  {
   "cell_type": "markdown",
   "metadata": {
    "slideshow": {
     "slide_type": "slide"
    }
   },
   "source": [
    "# Static vs dynamic typing"
   ]
  },
  {
   "cell_type": "markdown",
   "metadata": {
    "slideshow": {
     "slide_type": "subslide"
    }
   },
   "source": [
    "## C is statically typed"
   ]
  },
  {
   "cell_type": "code",
   "execution_count": null,
   "metadata": {
    "slideshow": {
     "slide_type": "fragment"
    }
   },
   "outputs": [],
   "source": [
    "%%file add_one.c\n",
    "\n",
    "int add_one(int arg) {\n",
    "    return arg + 1;\n",
    "    }\n",
    "\n",
    "int main() {\n",
    "    char bad_arg[] = \"not an int\";\n",
    "    int foo = add_one(bad_arg); // errors when compiled\n",
    "    return 1;\n",
    "}\n"
   ]
  },
  {
   "cell_type": "code",
   "execution_count": 2,
   "metadata": {
    "slideshow": {
     "slide_type": "fragment"
    }
   },
   "outputs": [
    {
     "name": "stdout",
     "output_type": "stream",
     "text": [
      "\u001b[01m\u001b[Kadd_one.c:\u001b[m\u001b[K In function ‘\u001b[01m\u001b[Kmain\u001b[m\u001b[K’:\r\n",
      "\u001b[01m\u001b[Kadd_one.c:8:23:\u001b[m\u001b[K \u001b[01;35m\u001b[Kwarning: \u001b[m\u001b[Kpassing argument 1 of ‘\u001b[01m\u001b[Kadd_one\u001b[m\u001b[K’ makes integer from pointer without a cast [\u001b[01;35m\u001b[K-Wint-conversion\u001b[m\u001b[K]\r\n",
      "    8 |     int foo = add_one(\u001b[01;35m\u001b[Kbad_arg\u001b[m\u001b[K); // errors when compiled\r\n",
      "      |                       \u001b[01;35m\u001b[K^~~~~~~\u001b[m\u001b[K\r\n",
      "      |                       \u001b[01;35m\u001b[K|\u001b[m\u001b[K\r\n",
      "      |                       \u001b[01;35m\u001b[Kchar *\u001b[m\u001b[K\r\n",
      "\u001b[01m\u001b[Kadd_one.c:2:17:\u001b[m\u001b[K \u001b[01;36m\u001b[Knote: \u001b[m\u001b[Kexpected ‘\u001b[01m\u001b[Kint\u001b[m\u001b[K’ but argument is of type ‘\u001b[01m\u001b[Kchar *\u001b[m\u001b[K’\r\n",
      "    2 | int add_one(\u001b[01;36m\u001b[Kint arg\u001b[m\u001b[K) {\r\n",
      "      |             \u001b[01;36m\u001b[K~~~~^~~\u001b[m\u001b[K\r\n"
     ]
    }
   ],
   "source": [
    "!gcc add_one.c -o add_one && ./add_one"
   ]
  },
  {
   "cell_type": "markdown",
   "metadata": {
    "slideshow": {
     "slide_type": "subslide"
    }
   },
   "source": [
    "## Python is dynamically typed"
   ]
  },
  {
   "cell_type": "code",
   "execution_count": 3,
   "metadata": {
    "slideshow": {
     "slide_type": "fragment"
    }
   },
   "outputs": [
    {
     "name": "stdout",
     "output_type": "stream",
     "text": [
      "Overwriting add_one.py\n"
     ]
    }
   ],
   "source": [
    "%%file add_one.py\n",
    "\n",
    "def add_one(arg):\n",
    "    return arg + 1\n",
    "\n",
    "if __name__ == '__main__':\n",
    "    bad_arg = \"not an int\"\n",
    "    foo = add_one(bad_arg) # errors when run"
   ]
  },
  {
   "cell_type": "code",
   "execution_count": 4,
   "metadata": {
    "slideshow": {
     "slide_type": "fragment"
    }
   },
   "outputs": [
    {
     "name": "stdout",
     "output_type": "stream",
     "text": [
      "Traceback (most recent call last):\r\n",
      "  File \"add_one.py\", line 7, in <module>\r\n",
      "    foo = add_one(bad_arg) # errors when run\r\n",
      "  File \"add_one.py\", line 3, in add_one\r\n",
      "    return arg + 1\r\n",
      "TypeError: can only concatenate str (not \"int\") to str\r\n"
     ]
    }
   ],
   "source": [
    "!python add_one.py"
   ]
  },
  {
   "cell_type": "markdown",
   "metadata": {
    "slideshow": {
     "slide_type": "slide"
    }
   },
   "source": [
    "Advantages of static typing:\n",
    "- Catch type errors before they happen\n",
    "- Makes complicated code easier to understand\n",
    "- Enables efficient (i.e., good) performance \n",
    "\n",
    "Disadvantages: \n",
    "- Slower to write\n",
    "- More boilerplate code\n",
    "- Harder to write generic code"
   ]
  },
  {
   "cell_type": "markdown",
   "metadata": {
    "slideshow": {
     "slide_type": "slide"
    }
   },
   "source": [
    "Since Python 3.5, type annotations give Python some of the advantages of static typing "
   ]
  },
  {
   "cell_type": "code",
   "execution_count": 5,
   "metadata": {
    "slideshow": {
     "slide_type": "fragment"
    }
   },
   "outputs": [
    {
     "name": "stdout",
     "output_type": "stream",
     "text": [
      "Overwriting add_one_typed.py\n"
     ]
    }
   ],
   "source": [
    "%%file add_one_typed.py\n",
    "\n",
    "def add_one(arg: int) -> int:\n",
    "    return arg + 1\n",
    "\n",
    "if __name__ == '__main__':\n",
    "    bad_arg = \"not an int\"\n",
    "    foo = add_one(bad_arg) # errors when typechecked"
   ]
  },
  {
   "cell_type": "code",
   "execution_count": 6,
   "metadata": {
    "slideshow": {
     "slide_type": "fragment"
    }
   },
   "outputs": [
    {
     "name": "stdout",
     "output_type": "stream",
     "text": [
      "add_one_typed.py:7: \u001b[1m\u001b[31merror:\u001b[m Argument 1 to \u001b[m\u001b[1m\"add_one\"\u001b[m has incompatible type \u001b[m\u001b[1m\"str\"\u001b[m; expected \u001b[m\u001b[1m\"int\"\u001b[m\u001b[m\r\n",
      "\u001b[1m\u001b[31mFound 1 error in 1 file (checked 1 source file)\u001b[m\r\n"
     ]
    }
   ],
   "source": [
    "!mypy add_one_typed.py"
   ]
  },
  {
   "cell_type": "markdown",
   "metadata": {
    "slideshow": {
     "slide_type": "fragment"
    }
   },
   "source": [
    "The typechecker finds error *before* runtime, which can be nice if errors are bad."
   ]
  },
  {
   "cell_type": "markdown",
   "metadata": {
    "slideshow": {
     "slide_type": "subslide"
    }
   },
   "source": [
    "The type system supports unions:\n",
    "\n",
    "```python\n",
    "from typing import Union, List\n",
    "\n",
    "def list_or_int(arg: int) -> Union[List, int]:\n",
    "    if arg % 2 == 0:\n",
    "        return []\n",
    "    else:\n",
    "        return 0\n",
    "```"
   ]
  },
  {
   "cell_type": "markdown",
   "metadata": {
    "slideshow": {
     "slide_type": "fragment"
    }
   },
   "source": [
    "...Generics: \n",
    "\n",
    "```python\n",
    "from typing import TypeVar\n",
    "\n",
    "T = TypeVar('T')\n",
    "def identity(arg: T) -> T:\n",
    "    return arg\n",
    "```\n"
   ]
  },
  {
   "cell_type": "markdown",
   "metadata": {
    "slideshow": {
     "slide_type": "fragment"
    }
   },
   "source": [
    "... a catch-all `Any` type:\n",
    "\n",
    "```python\n",
    "from typing import Any\n",
    "\n",
    "blob: Any = load_data()\n",
    "blob += 10 # the typechecker is fine with this\n",
    "```"
   ]
  },
  {
   "cell_type": "markdown",
   "metadata": {
    "slideshow": {
     "slide_type": "fragment"
    }
   },
   "source": [
    "\n",
    "...and a lot more features (but not runtime performance*)\n",
    "\n",
    "\n",
    "\n",
    "\n",
    "\n",
    "\n",
    "*but see https://cython.readthedocs.io/en/latest/src/tutorial/pure.html"
   ]
  },
  {
   "cell_type": "markdown",
   "metadata": {
    "slideshow": {
     "slide_type": "slide"
    }
   },
   "source": [
    "# How and when to use python type annotations"
   ]
  },
  {
   "cell_type": "markdown",
   "metadata": {
    "slideshow": {
     "slide_type": "subslide"
    }
   },
   "source": [
    "## How to use type annotations\n",
    "\n",
    "* While developing:\n",
    "    1. Write code\n",
    "    2. Annotate types\n",
    "    3. Run `mypy src/my_code.py` to get results from the typechecker\n",
    "\n",
    "Major IDEs (VSCode, PyCharm) can also parse type annotations"
   ]
  },
  {
   "cell_type": "markdown",
   "metadata": {
    "slideshow": {
     "slide_type": "subslide"
    }
   },
   "source": [
    "## When to use type annotations\n",
    "\n",
    "Whenever you can, but especially when your project gets bigger."
   ]
  },
  {
   "cell_type": "markdown",
   "metadata": {
    "slideshow": {
     "slide_type": "slide"
    }
   },
   "source": [
    "## Type-checked datastructures with pydantic\n",
    "\n",
    "- type annotations enable libraries to check types at runtime\n",
    "- the `pydantic` library uses this for data validation"
   ]
  },
  {
   "cell_type": "code",
   "execution_count": 7,
   "metadata": {
    "slideshow": {
     "slide_type": "subslide"
    }
   },
   "outputs": [
    {
     "ename": "ValidationError",
     "evalue": "1 validation error for User\nid\n  value is not a valid integer (type=type_error.integer)",
     "output_type": "error",
     "traceback": [
      "\u001b[0;31m---------------------------------------------------------------------------\u001b[0m",
      "\u001b[0;31mValidationError\u001b[0m                           Traceback (most recent call last)",
      "\u001b[0;32m/tmp/ipykernel_35358/3019336933.py\u001b[0m in \u001b[0;36m<module>\u001b[0;34m\u001b[0m\n\u001b[1;32m      5\u001b[0m     \u001b[0mid\u001b[0m\u001b[0;34m:\u001b[0m \u001b[0mint\u001b[0m\u001b[0;34m\u001b[0m\u001b[0;34m\u001b[0m\u001b[0m\n\u001b[1;32m      6\u001b[0m \u001b[0;34m\u001b[0m\u001b[0m\n\u001b[0;32m----> 7\u001b[0;31m \u001b[0msteve\u001b[0m \u001b[0;34m=\u001b[0m \u001b[0mUser\u001b[0m\u001b[0;34m(\u001b[0m\u001b[0mname\u001b[0m\u001b[0;34m=\u001b[0m\u001b[0;36m100\u001b[0m\u001b[0;34m,\u001b[0m \u001b[0mid\u001b[0m\u001b[0;34m=\u001b[0m\u001b[0;34m'steve'\u001b[0m\u001b[0;34m)\u001b[0m \u001b[0;31m# this should error\u001b[0m\u001b[0;34m\u001b[0m\u001b[0;34m\u001b[0m\u001b[0m\n\u001b[0m",
      "\u001b[0;32m~/miniconda3/lib/python3.8/site-packages/pydantic/main.cpython-38-x86_64-linux-gnu.so\u001b[0m in \u001b[0;36mpydantic.main.BaseModel.__init__\u001b[0;34m()\u001b[0m\n",
      "\u001b[0;31mValidationError\u001b[0m: 1 validation error for User\nid\n  value is not a valid integer (type=type_error.integer)"
     ]
    }
   ],
   "source": [
    "from pydantic import BaseModel\n",
    "\n",
    "class User(BaseModel):\n",
    "    name: str\n",
    "    id: int\n",
    "\n",
    "steve = User(name=100, id='steve') # this should error\n"
   ]
  },
  {
   "cell_type": "markdown",
   "metadata": {
    "slideshow": {
     "slide_type": "subslide"
    }
   },
   "source": [
    "Pydantic supports nested models, and can generate JSON from model instances"
   ]
  },
  {
   "cell_type": "code",
   "execution_count": 8,
   "metadata": {
    "slideshow": {
     "slide_type": "fragment"
    }
   },
   "outputs": [
    {
     "name": "stdout",
     "output_type": "stream",
     "text": [
      "{\n",
      "  \"user\": \"bennettd\",\n",
      "  \"images\": [\n",
      "    {\n",
      "      \"name\": \"exp1\",\n",
      "      \"size\": [\n",
      "        10,\n",
      "        10\n",
      "      ],\n",
      "      \"resolution\": [\n",
      "        1.0,\n",
      "        1.0\n",
      "      ]\n",
      "    }\n",
      "  ]\n",
      "}\n"
     ]
    }
   ],
   "source": [
    "from pydantic import BaseModel\n",
    "from typing import Tuple\n",
    "\n",
    "\n",
    "class ImageVolume(BaseModel):\n",
    "    name: str\n",
    "    size: Tuple[int, ...]\n",
    "    resolution: Tuple[float, ...]\n",
    "\n",
    "\n",
    "class Experiment(BaseModel):\n",
    "    user: str\n",
    "    images: Tuple[ImageVolume, ...]\n",
    "\n",
    "\n",
    "experiment = Experiment(user='bennettd', images=({'name': 'exp1', 'size': (10, 10), 'resolution': (1.0, 1.0)},))\n",
    "\n",
    "print(experiment.json(indent=2))"
   ]
  },
  {
   "cell_type": "markdown",
   "metadata": {
    "slideshow": {
     "slide_type": "subslide"
    }
   },
   "source": [
    "We can make JSON schemas from data models, which can be used for code generation "
   ]
  },
  {
   "cell_type": "code",
   "execution_count": 9,
   "metadata": {
    "slideshow": {
     "slide_type": "fragment"
    }
   },
   "outputs": [
    {
     "name": "stdout",
     "output_type": "stream",
     "text": [
      "{\n",
      "  \"title\": \"Experiment\",\n",
      "  \"type\": \"object\",\n",
      "  \"properties\": {\n",
      "    \"user\": {\n",
      "      \"title\": \"User\",\n",
      "      \"type\": \"string\"\n",
      "    },\n",
      "    \"images\": {\n",
      "      \"title\": \"Images\",\n",
      "      \"type\": \"array\",\n",
      "      \"items\": {\n",
      "        \"$ref\": \"#/definitions/ImageVolume\"\n",
      "      }\n",
      "    }\n",
      "  },\n",
      "  \"required\": [\n",
      "    \"user\",\n",
      "    \"images\"\n",
      "  ],\n",
      "  \"definitions\": {\n",
      "    \"ImageVolume\": {\n",
      "      \"title\": \"ImageVolume\",\n",
      "      \"type\": \"object\",\n",
      "      \"properties\": {\n",
      "        \"name\": {\n",
      "          \"title\": \"Name\",\n",
      "          \"type\": \"string\"\n",
      "        },\n",
      "        \"size\": {\n",
      "          \"title\": \"Size\",\n",
      "          \"type\": \"array\",\n",
      "          \"items\": {\n",
      "            \"type\": \"integer\"\n",
      "          }\n",
      "        },\n",
      "        \"resolution\": {\n",
      "          \"title\": \"Resolution\",\n",
      "          \"type\": \"array\",\n",
      "          \"items\": {\n",
      "            \"type\": \"number\"\n",
      "          }\n",
      "        }\n",
      "      },\n",
      "      \"required\": [\n",
      "        \"name\",\n",
      "        \"size\",\n",
      "        \"resolution\"\n",
      "      ]\n",
      "    }\n",
      "  }\n",
      "}\n"
     ]
    }
   ],
   "source": [
    "print(Experiment.schema_json(indent=2))"
   ]
  },
  {
   "cell_type": "markdown",
   "metadata": {
    "slideshow": {
     "slide_type": "slide"
    }
   },
   "source": [
    "# Coda\n",
    "\n",
    "- type annotations are an efficient way to prevent errors and keep large codebases easy to understand\n",
    "- tools can use type annotations to provide runtime type safety\n",
    "- no performance benefits from static typing"
   ]
  },
  {
   "cell_type": "code",
   "execution_count": null,
   "metadata": {},
   "outputs": [],
   "source": []
  }
 ],
 "metadata": {
  "celltoolbar": "Slideshow",
  "interpreter": {
   "hash": "e16710a6422405dc5d54cc7e6628db795e7d065982786d649cb749fb441e6b71"
  },
  "kernelspec": {
   "display_name": "Python 3",
   "language": "python",
   "name": "python3"
  },
  "language_info": {
   "codemirror_mode": {
    "name": "ipython",
    "version": 3
   },
   "file_extension": ".py",
   "mimetype": "text/x-python",
   "name": "python",
   "nbconvert_exporter": "python",
   "pygments_lexer": "ipython3",
   "version": "3.8.12"
  },
  "toc-autonumbering": false,
  "toc-showtags": false
 },
 "nbformat": 4,
 "nbformat_minor": 4
}
