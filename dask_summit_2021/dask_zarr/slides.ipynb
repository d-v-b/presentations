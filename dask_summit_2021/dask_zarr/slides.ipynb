{
 "cells": [
  {
   "cell_type": "code",
   "execution_count": 1,
   "id": "f4a2a6c5-4bf4-4d7f-93ed-f581afac2a37",
   "metadata": {},
   "outputs": [],
   "source": [
    "import dask.array as da"
   ]
  },
  {
   "cell_type": "code",
   "execution_count": 6,
   "id": "b6e79cfa-9d91-4dd8-bd01-4d770347ea88",
   "metadata": {},
   "outputs": [
    {
     "data": {
      "text/html": [
       "<table>\n",
       "<tr>\n",
       "<td>\n",
       "<table>\n",
       "  <thead>\n",
       "    <tr><td> </td><th> Array </th><th> Chunk </th></tr>\n",
       "  </thead>\n",
       "  <tbody>\n",
       "    <tr><th> Bytes </th><td> 512.00 GiB </td> <td> 128.00 MiB </td></tr>\n",
       "    <tr><th> Shape </th><td> (8192, 8192, 8192) </td> <td> (512, 512, 512) </td></tr>\n",
       "    <tr><th> Count </th><td> 4096 Tasks </td><td> 4096 Chunks </td></tr>\n",
       "    <tr><th> Type </th><td> uint8 </td><td> numpy.ndarray </td></tr>\n",
       "  </tbody>\n",
       "</table>\n",
       "</td>\n",
       "<td>\n",
       "<svg width=\"250\" height=\"240\" style=\"stroke:rgb(0,0,0);stroke-width:1\" >\n",
       "\n",
       "  <!-- Horizontal lines -->\n",
       "  <line x1=\"10\" y1=\"0\" x2=\"80\" y2=\"70\" style=\"stroke-width:2\" />\n",
       "  <line x1=\"10\" y1=\"7\" x2=\"80\" y2=\"78\" />\n",
       "  <line x1=\"10\" y1=\"15\" x2=\"80\" y2=\"85\" />\n",
       "  <line x1=\"10\" y1=\"22\" x2=\"80\" y2=\"93\" />\n",
       "  <line x1=\"10\" y1=\"30\" x2=\"80\" y2=\"100\" />\n",
       "  <line x1=\"10\" y1=\"37\" x2=\"80\" y2=\"108\" />\n",
       "  <line x1=\"10\" y1=\"45\" x2=\"80\" y2=\"115\" />\n",
       "  <line x1=\"10\" y1=\"52\" x2=\"80\" y2=\"123\" />\n",
       "  <line x1=\"10\" y1=\"60\" x2=\"80\" y2=\"130\" />\n",
       "  <line x1=\"10\" y1=\"67\" x2=\"80\" y2=\"138\" />\n",
       "  <line x1=\"10\" y1=\"75\" x2=\"80\" y2=\"145\" />\n",
       "  <line x1=\"10\" y1=\"82\" x2=\"80\" y2=\"153\" />\n",
       "  <line x1=\"10\" y1=\"90\" x2=\"80\" y2=\"160\" />\n",
       "  <line x1=\"10\" y1=\"97\" x2=\"80\" y2=\"168\" />\n",
       "  <line x1=\"10\" y1=\"105\" x2=\"80\" y2=\"175\" />\n",
       "  <line x1=\"10\" y1=\"112\" x2=\"80\" y2=\"183\" />\n",
       "  <line x1=\"10\" y1=\"120\" x2=\"80\" y2=\"190\" style=\"stroke-width:2\" />\n",
       "\n",
       "  <!-- Vertical lines -->\n",
       "  <line x1=\"10\" y1=\"0\" x2=\"10\" y2=\"120\" style=\"stroke-width:2\" />\n",
       "  <line x1=\"14\" y1=\"4\" x2=\"14\" y2=\"124\" />\n",
       "  <line x1=\"18\" y1=\"8\" x2=\"18\" y2=\"128\" />\n",
       "  <line x1=\"23\" y1=\"13\" x2=\"23\" y2=\"133\" />\n",
       "  <line x1=\"27\" y1=\"17\" x2=\"27\" y2=\"137\" />\n",
       "  <line x1=\"32\" y1=\"22\" x2=\"32\" y2=\"142\" />\n",
       "  <line x1=\"36\" y1=\"26\" x2=\"36\" y2=\"146\" />\n",
       "  <line x1=\"40\" y1=\"30\" x2=\"40\" y2=\"150\" />\n",
       "  <line x1=\"45\" y1=\"35\" x2=\"45\" y2=\"155\" />\n",
       "  <line x1=\"49\" y1=\"39\" x2=\"49\" y2=\"159\" />\n",
       "  <line x1=\"54\" y1=\"44\" x2=\"54\" y2=\"164\" />\n",
       "  <line x1=\"58\" y1=\"48\" x2=\"58\" y2=\"168\" />\n",
       "  <line x1=\"62\" y1=\"52\" x2=\"62\" y2=\"172\" />\n",
       "  <line x1=\"67\" y1=\"57\" x2=\"67\" y2=\"177\" />\n",
       "  <line x1=\"71\" y1=\"61\" x2=\"71\" y2=\"181\" />\n",
       "  <line x1=\"76\" y1=\"66\" x2=\"76\" y2=\"186\" />\n",
       "  <line x1=\"80\" y1=\"70\" x2=\"80\" y2=\"190\" style=\"stroke-width:2\" />\n",
       "\n",
       "  <!-- Colored Rectangle -->\n",
       "  <polygon points=\"10.0,0.0 80.58823529411765,70.58823529411765 80.58823529411765,190.58823529411765 10.0,120.0\" style=\"fill:#ECB172A0;stroke-width:0\"/>\n",
       "\n",
       "  <!-- Horizontal lines -->\n",
       "  <line x1=\"10\" y1=\"0\" x2=\"130\" y2=\"0\" style=\"stroke-width:2\" />\n",
       "  <line x1=\"14\" y1=\"4\" x2=\"134\" y2=\"4\" />\n",
       "  <line x1=\"18\" y1=\"8\" x2=\"138\" y2=\"8\" />\n",
       "  <line x1=\"23\" y1=\"13\" x2=\"143\" y2=\"13\" />\n",
       "  <line x1=\"27\" y1=\"17\" x2=\"147\" y2=\"17\" />\n",
       "  <line x1=\"32\" y1=\"22\" x2=\"152\" y2=\"22\" />\n",
       "  <line x1=\"36\" y1=\"26\" x2=\"156\" y2=\"26\" />\n",
       "  <line x1=\"40\" y1=\"30\" x2=\"160\" y2=\"30\" />\n",
       "  <line x1=\"45\" y1=\"35\" x2=\"165\" y2=\"35\" />\n",
       "  <line x1=\"49\" y1=\"39\" x2=\"169\" y2=\"39\" />\n",
       "  <line x1=\"54\" y1=\"44\" x2=\"174\" y2=\"44\" />\n",
       "  <line x1=\"58\" y1=\"48\" x2=\"178\" y2=\"48\" />\n",
       "  <line x1=\"62\" y1=\"52\" x2=\"182\" y2=\"52\" />\n",
       "  <line x1=\"67\" y1=\"57\" x2=\"187\" y2=\"57\" />\n",
       "  <line x1=\"71\" y1=\"61\" x2=\"191\" y2=\"61\" />\n",
       "  <line x1=\"76\" y1=\"66\" x2=\"196\" y2=\"66\" />\n",
       "  <line x1=\"80\" y1=\"70\" x2=\"200\" y2=\"70\" style=\"stroke-width:2\" />\n",
       "\n",
       "  <!-- Vertical lines -->\n",
       "  <line x1=\"10\" y1=\"0\" x2=\"80\" y2=\"70\" style=\"stroke-width:2\" />\n",
       "  <line x1=\"17\" y1=\"0\" x2=\"88\" y2=\"70\" />\n",
       "  <line x1=\"25\" y1=\"0\" x2=\"95\" y2=\"70\" />\n",
       "  <line x1=\"32\" y1=\"0\" x2=\"103\" y2=\"70\" />\n",
       "  <line x1=\"40\" y1=\"0\" x2=\"110\" y2=\"70\" />\n",
       "  <line x1=\"47\" y1=\"0\" x2=\"118\" y2=\"70\" />\n",
       "  <line x1=\"55\" y1=\"0\" x2=\"125\" y2=\"70\" />\n",
       "  <line x1=\"62\" y1=\"0\" x2=\"133\" y2=\"70\" />\n",
       "  <line x1=\"70\" y1=\"0\" x2=\"140\" y2=\"70\" />\n",
       "  <line x1=\"77\" y1=\"0\" x2=\"148\" y2=\"70\" />\n",
       "  <line x1=\"85\" y1=\"0\" x2=\"155\" y2=\"70\" />\n",
       "  <line x1=\"92\" y1=\"0\" x2=\"163\" y2=\"70\" />\n",
       "  <line x1=\"100\" y1=\"0\" x2=\"170\" y2=\"70\" />\n",
       "  <line x1=\"107\" y1=\"0\" x2=\"178\" y2=\"70\" />\n",
       "  <line x1=\"115\" y1=\"0\" x2=\"185\" y2=\"70\" />\n",
       "  <line x1=\"122\" y1=\"0\" x2=\"193\" y2=\"70\" />\n",
       "  <line x1=\"130\" y1=\"0\" x2=\"200\" y2=\"70\" style=\"stroke-width:2\" />\n",
       "\n",
       "  <!-- Colored Rectangle -->\n",
       "  <polygon points=\"10.0,0.0 130.0,0.0 200.58823529411765,70.58823529411765 80.58823529411765,70.58823529411765\" style=\"fill:#ECB172A0;stroke-width:0\"/>\n",
       "\n",
       "  <!-- Horizontal lines -->\n",
       "  <line x1=\"80\" y1=\"70\" x2=\"200\" y2=\"70\" style=\"stroke-width:2\" />\n",
       "  <line x1=\"80\" y1=\"78\" x2=\"200\" y2=\"78\" />\n",
       "  <line x1=\"80\" y1=\"85\" x2=\"200\" y2=\"85\" />\n",
       "  <line x1=\"80\" y1=\"93\" x2=\"200\" y2=\"93\" />\n",
       "  <line x1=\"80\" y1=\"100\" x2=\"200\" y2=\"100\" />\n",
       "  <line x1=\"80\" y1=\"108\" x2=\"200\" y2=\"108\" />\n",
       "  <line x1=\"80\" y1=\"115\" x2=\"200\" y2=\"115\" />\n",
       "  <line x1=\"80\" y1=\"123\" x2=\"200\" y2=\"123\" />\n",
       "  <line x1=\"80\" y1=\"130\" x2=\"200\" y2=\"130\" />\n",
       "  <line x1=\"80\" y1=\"138\" x2=\"200\" y2=\"138\" />\n",
       "  <line x1=\"80\" y1=\"145\" x2=\"200\" y2=\"145\" />\n",
       "  <line x1=\"80\" y1=\"153\" x2=\"200\" y2=\"153\" />\n",
       "  <line x1=\"80\" y1=\"160\" x2=\"200\" y2=\"160\" />\n",
       "  <line x1=\"80\" y1=\"168\" x2=\"200\" y2=\"168\" />\n",
       "  <line x1=\"80\" y1=\"175\" x2=\"200\" y2=\"175\" />\n",
       "  <line x1=\"80\" y1=\"183\" x2=\"200\" y2=\"183\" />\n",
       "  <line x1=\"80\" y1=\"190\" x2=\"200\" y2=\"190\" style=\"stroke-width:2\" />\n",
       "\n",
       "  <!-- Vertical lines -->\n",
       "  <line x1=\"80\" y1=\"70\" x2=\"80\" y2=\"190\" style=\"stroke-width:2\" />\n",
       "  <line x1=\"88\" y1=\"70\" x2=\"88\" y2=\"190\" />\n",
       "  <line x1=\"95\" y1=\"70\" x2=\"95\" y2=\"190\" />\n",
       "  <line x1=\"103\" y1=\"70\" x2=\"103\" y2=\"190\" />\n",
       "  <line x1=\"110\" y1=\"70\" x2=\"110\" y2=\"190\" />\n",
       "  <line x1=\"118\" y1=\"70\" x2=\"118\" y2=\"190\" />\n",
       "  <line x1=\"125\" y1=\"70\" x2=\"125\" y2=\"190\" />\n",
       "  <line x1=\"133\" y1=\"70\" x2=\"133\" y2=\"190\" />\n",
       "  <line x1=\"140\" y1=\"70\" x2=\"140\" y2=\"190\" />\n",
       "  <line x1=\"148\" y1=\"70\" x2=\"148\" y2=\"190\" />\n",
       "  <line x1=\"155\" y1=\"70\" x2=\"155\" y2=\"190\" />\n",
       "  <line x1=\"163\" y1=\"70\" x2=\"163\" y2=\"190\" />\n",
       "  <line x1=\"170\" y1=\"70\" x2=\"170\" y2=\"190\" />\n",
       "  <line x1=\"178\" y1=\"70\" x2=\"178\" y2=\"190\" />\n",
       "  <line x1=\"185\" y1=\"70\" x2=\"185\" y2=\"190\" />\n",
       "  <line x1=\"193\" y1=\"70\" x2=\"193\" y2=\"190\" />\n",
       "  <line x1=\"200\" y1=\"70\" x2=\"200\" y2=\"190\" style=\"stroke-width:2\" />\n",
       "\n",
       "  <!-- Colored Rectangle -->\n",
       "  <polygon points=\"80.58823529411765,70.58823529411765 200.58823529411765,70.58823529411765 200.58823529411765,190.58823529411765 80.58823529411765,190.58823529411765\" style=\"fill:#ECB172A0;stroke-width:0\"/>\n",
       "\n",
       "  <!-- Text -->\n",
       "  <text x=\"140.588235\" y=\"210.588235\" font-size=\"1.0rem\" font-weight=\"100\" text-anchor=\"middle\" >8192</text>\n",
       "  <text x=\"220.588235\" y=\"130.588235\" font-size=\"1.0rem\" font-weight=\"100\" text-anchor=\"middle\" transform=\"rotate(-90,220.588235,130.588235)\">8192</text>\n",
       "  <text x=\"35.294118\" y=\"175.294118\" font-size=\"1.0rem\" font-weight=\"100\" text-anchor=\"middle\" transform=\"rotate(45,35.294118,175.294118)\">8192</text>\n",
       "</svg>\n",
       "</td>\n",
       "</tr>\n",
       "</table>"
      ],
      "text/plain": [
       "dask.array<randint, shape=(8192, 8192, 8192), dtype=uint8, chunksize=(512, 512, 512), chunktype=numpy.ndarray>"
      ]
     },
     "execution_count": 6,
     "metadata": {},
     "output_type": "execute_result"
    }
   ],
   "source": [
    "da.random.randint(0,255, (4096 * 2,) * 3, chunks=(512,) * 3, dtype='uint8')"
   ]
  },
  {
   "cell_type": "code",
   "execution_count": 1,
   "id": "e34fada7-6ddc-4802-ad75-6c2e97d7b452",
   "metadata": {},
   "outputs": [
    {
     "data": {
      "text/plain": [
       "array([0, 0, 0, 0, 0, 0, 0, 0, 0, 0, 0, 0, 0, 0, 0, 0], dtype=uint8)"
      ]
     },
     "execution_count": 1,
     "metadata": {},
     "output_type": "execute_result"
    }
   ],
   "source": [
    "# Create a zarr array\n",
    "import zarr\n",
    "import numpy as np\n",
    "\n",
    "data = np.arange(16, dtype='uint8')\n",
    "\n",
    "zarray = zarr.open('test.zarr', # Path to the root of the zarr hierarchy \n",
    "                  path='foo',  # Path to the array I am creating\n",
    "                  shape=data.shape,  # Array shape\n",
    "                  dtype=data.dtype, # Array datatype\n",
    "                  chunks=(data.size//4,), # Array chunking\n",
    "                  mode='w') # Storage access mode\n",
    "\n",
    "zarray[:] # By default, the array is full of 0s"
   ]
  },
  {
   "cell_type": "code",
   "execution_count": 2,
   "id": "6a0d6c58-0c76-4ccb-95c8-bb348876fb11",
   "metadata": {},
   "outputs": [
    {
     "name": "stdout",
     "output_type": "stream",
     "text": [
      "\u001b[01;34mtest.zarr\u001b[00m\n",
      "├── .zgroup\n",
      "└── \u001b[01;34mfoo\u001b[00m\n",
      "    └── .zarray\n",
      "\n",
      "1 directory, 2 files\n"
     ]
    }
   ],
   "source": [
    "!tree -a test.zarr"
   ]
  },
  {
   "cell_type": "code",
   "execution_count": 4,
   "id": "f608aa6c-f968-422f-bfc2-fed942c0d34b",
   "metadata": {},
   "outputs": [
    {
     "data": {
      "text/plain": [
       "array([ 0,  1,  2,  3,  4,  5,  6,  7,  8,  9, 10, 11, 12, 13, 14, 15],\n",
       "      dtype=uint8)"
      ]
     },
     "execution_count": 4,
     "metadata": {},
     "output_type": "execute_result"
    }
   ],
   "source": [
    "zarray[:] = data\n",
    "zarray[:]"
   ]
  },
  {
   "cell_type": "code",
   "execution_count": 5,
   "id": "e1c5201b-148e-4a4e-a56a-079d24052f00",
   "metadata": {},
   "outputs": [
    {
     "name": "stdout",
     "output_type": "stream",
     "text": [
      "\u001b[01;34mtest.zarr\u001b[00m\n",
      "├── .zgroup\n",
      "└── \u001b[01;34mfoo\u001b[00m\n",
      "    ├── .zarray\n",
      "    ├── 0\n",
      "    ├── 1\n",
      "    ├── 2\n",
      "    └── 3\n",
      "\n",
      "1 directory, 6 files\n"
     ]
    }
   ],
   "source": [
    "!tree -a test.zarr"
   ]
  },
  {
   "cell_type": "code",
   "execution_count": 6,
   "id": "ef3a3a02-a270-4850-9d66-01f30470dbc4",
   "metadata": {},
   "outputs": [],
   "source": [
    "zarray.attrs['property'] = {'numbers': [0,1,2]}"
   ]
  },
  {
   "cell_type": "code",
   "execution_count": 7,
   "id": "17248c60-7c3a-4523-8e52-a66b56734a0b",
   "metadata": {},
   "outputs": [
    {
     "data": {
      "text/plain": [
       "{'property': {'numbers': [0, 1, 2]}}"
      ]
     },
     "execution_count": 7,
     "metadata": {},
     "output_type": "execute_result"
    }
   ],
   "source": [
    "dict(zarray.attrs)"
   ]
  },
  {
   "cell_type": "code",
   "execution_count": 8,
   "id": "bcd0870e-2646-48b6-948d-832f4ccee26f",
   "metadata": {},
   "outputs": [
    {
     "name": "stdout",
     "output_type": "stream",
     "text": [
      "{\n",
      "    \"property\": {\n",
      "        \"numbers\": [\n",
      "            0,\n",
      "            1,\n",
      "            2\n",
      "        ]\n",
      "    }\n",
      "}"
     ]
    }
   ],
   "source": [
    "!cat test.zarr/foo/.zattrs"
   ]
  },
  {
   "cell_type": "code",
   "execution_count": 10,
   "id": "5ee00d03-4e6d-4495-b519-7ec8bf9d3b43",
   "metadata": {},
   "outputs": [
    {
     "data": {
      "text/html": [
       "<table class=\"zarr-info\"><tbody><tr><th style=\"text-align: left\">Name</th><td style=\"text-align: left\">/foo</td></tr><tr><th style=\"text-align: left\">Type</th><td style=\"text-align: left\">zarr.core.Array</td></tr><tr><th style=\"text-align: left\">Data type</th><td style=\"text-align: left\">uint8</td></tr><tr><th style=\"text-align: left\">Shape</th><td style=\"text-align: left\">(16,)</td></tr><tr><th style=\"text-align: left\">Chunk shape</th><td style=\"text-align: left\">(4,)</td></tr><tr><th style=\"text-align: left\">Order</th><td style=\"text-align: left\">C</td></tr><tr><th style=\"text-align: left\">Read-only</th><td style=\"text-align: left\">False</td></tr><tr><th style=\"text-align: left\">Compressor</th><td style=\"text-align: left\">Blosc(cname='lz4', clevel=5, shuffle=SHUFFLE, blocksize=0)</td></tr><tr><th style=\"text-align: left\">Store type</th><td style=\"text-align: left\">zarr.storage.DirectoryStore</td></tr><tr><th style=\"text-align: left\">No. bytes</th><td style=\"text-align: left\">16</td></tr><tr><th style=\"text-align: left\">No. bytes stored</th><td style=\"text-align: left\">492</td></tr><tr><th style=\"text-align: left\">Storage ratio</th><td style=\"text-align: left\">0.0</td></tr><tr><th style=\"text-align: left\">Chunks initialized</th><td style=\"text-align: left\">4/4</td></tr></tbody></table>"
      ],
      "text/plain": [
       "Name               : /foo\n",
       "Type               : zarr.core.Array\n",
       "Data type          : uint8\n",
       "Shape              : (16,)\n",
       "Chunk shape        : (4,)\n",
       "Order              : C\n",
       "Read-only          : False\n",
       "Compressor         : Blosc(cname='lz4', clevel=5, shuffle=SHUFFLE, blocksize=0)\n",
       "Store type         : zarr.storage.DirectoryStore\n",
       "No. bytes          : 16\n",
       "No. bytes stored   : 492\n",
       "Storage ratio      : 0.0\n",
       "Chunks initialized : 4/4"
      ]
     },
     "execution_count": 10,
     "metadata": {},
     "output_type": "execute_result"
    }
   ],
   "source": [
    "zarray.info"
   ]
  },
  {
   "cell_type": "code",
   "execution_count": 11,
   "id": "ea629627-3b3e-4c4f-8f63-b979d398193e",
   "metadata": {},
   "outputs": [],
   "source": [
    "import dask.array as da\n",
    "darray = da.arange(16,32, chunks=(4,), dtype='uint8')"
   ]
  },
  {
   "cell_type": "code",
   "execution_count": 12,
   "id": "e503a96e-51d6-4366-aeb0-07207105afe6",
   "metadata": {},
   "outputs": [
    {
     "data": {
      "text/plain": [
       "[None, None, None, None]"
      ]
     },
     "execution_count": 12,
     "metadata": {},
     "output_type": "execute_result"
    }
   ],
   "source": [
    "storage_op = darray.to_zarr('test.zarr', \n",
    "                            component='foo', \n",
    "                            overwrite=True, \n",
    "                            compute=False)\n",
    "storage_op.compute()"
   ]
  },
  {
   "cell_type": "code",
   "execution_count": 13,
   "id": "59c707fd-049f-4cfc-a2e6-d958cf4d6aa2",
   "metadata": {},
   "outputs": [
    {
     "data": {
      "text/plain": [
       "array([16, 17, 18, 19, 20, 21, 22, 23, 24, 25, 26, 27, 28, 29, 30, 31],\n",
       "      dtype=uint8)"
      ]
     },
     "execution_count": 13,
     "metadata": {},
     "output_type": "execute_result"
    }
   ],
   "source": [
    "zarray[:]"
   ]
  },
  {
   "cell_type": "code",
   "execution_count": 15,
   "id": "1a4567c2-4486-45b5-9356-53d3e631210b",
   "metadata": {},
   "outputs": [
    {
     "data": {
      "text/plain": [
       "[None, None, None, None]"
      ]
     },
     "execution_count": 15,
     "metadata": {},
     "output_type": "execute_result"
    }
   ],
   "source": [
    "storage_op = darray.store(zarray, \n",
    "                          compute=False, \n",
    "                          lock=None)\n",
    "storage_op.compute()"
   ]
  },
  {
   "cell_type": "code",
   "execution_count": 16,
   "id": "7e7f78b9-21a3-4217-a230-52898b0da32d",
   "metadata": {},
   "outputs": [
    {
     "data": {
      "text/plain": [
       "([array([0, 0, 0, 0])],)"
      ]
     },
     "execution_count": 16,
     "metadata": {},
     "output_type": "execute_result"
    }
   ],
   "source": [
    "import dask\n",
    "def store_block(source, target, region, block_info=None):\n",
    "    chunk_origin = block_info[0][\"array-location\"]\n",
    "    slices = tuple(slice(start, stop) for start, stop in chunk_origin)\n",
    "    if region:\n",
    "        slices = da.optimization.fuse_slice(region, slices)\n",
    "    target[slices] = source\n",
    "    return np.expand_dims(0, tuple(range(source.ndim)))\n",
    "  \n",
    "    \n",
    "def store_blocks(sources, targets, regions=None):\n",
    "    result = []\n",
    "\n",
    "    if isinstance(sources, dask.array.core.Array):\n",
    "        sources = [sources]\n",
    "        targets = [targets]\n",
    "\n",
    "    if isinstance(regions, tuple) or regions is None:\n",
    "        regions = [regions]\n",
    "    for source, target, region in zip(sources, targets, regions):\n",
    "        out_chunks = tuple((1,) * len(c) for c in source.chunks)\n",
    "        result.append(\n",
    "            da.map_blocks(\n",
    "                store_block,\n",
    "                source,\n",
    "                target,\n",
    "                region,\n",
    "                chunks=out_chunks,\n",
    "                dtype=\"int64\",\n",
    "            )\n",
    "        )\n",
    "    return result\n",
    "\n",
    "storage_op = store_blocks(darray, zarray)\n",
    "da.compute(storage_op)"
   ]
  },
  {
   "cell_type": "code",
   "execution_count": 17,
   "id": "61fff14d-6a05-4cf7-8a0d-ad6b0500f442",
   "metadata": {},
   "outputs": [
    {
     "data": {
      "text/html": [
       "<table>\n",
       "<tr>\n",
       "<td>\n",
       "<table>\n",
       "  <thead>\n",
       "    <tr><td> </td><th> Array </th><th> Chunk </th></tr>\n",
       "  </thead>\n",
       "  <tbody>\n",
       "    <tr><th> Bytes </th><td> 16 B </td> <td> 16 B </td></tr>\n",
       "    <tr><th> Shape </th><td> (16,) </td> <td> (16,) </td></tr>\n",
       "    <tr><th> Count </th><td> 2 Tasks </td><td> 1 Chunks </td></tr>\n",
       "    <tr><th> Type </th><td> uint8 </td><td> numpy.ndarray </td></tr>\n",
       "  </tbody>\n",
       "</table>\n",
       "</td>\n",
       "<td>\n",
       "<svg width=\"170\" height=\"85\" style=\"stroke:rgb(0,0,0);stroke-width:1\" >\n",
       "\n",
       "  <!-- Horizontal lines -->\n",
       "  <line x1=\"0\" y1=\"0\" x2=\"120\" y2=\"0\" style=\"stroke-width:2\" />\n",
       "  <line x1=\"0\" y1=\"35\" x2=\"120\" y2=\"35\" style=\"stroke-width:2\" />\n",
       "\n",
       "  <!-- Vertical lines -->\n",
       "  <line x1=\"0\" y1=\"0\" x2=\"0\" y2=\"35\" style=\"stroke-width:2\" />\n",
       "  <line x1=\"120\" y1=\"0\" x2=\"120\" y2=\"35\" style=\"stroke-width:2\" />\n",
       "\n",
       "  <!-- Colored Rectangle -->\n",
       "  <polygon points=\"0.0,0.0 120.0,0.0 120.0,35.85954734920875 0.0,35.85954734920875\" style=\"fill:#ECB172A0;stroke-width:0\"/>\n",
       "\n",
       "  <!-- Text -->\n",
       "  <text x=\"60.000000\" y=\"55.859547\" font-size=\"1.0rem\" font-weight=\"100\" text-anchor=\"middle\" >16</text>\n",
       "  <text x=\"140.000000\" y=\"17.929774\" font-size=\"1.0rem\" font-weight=\"100\" text-anchor=\"middle\" transform=\"rotate(0,140.000000,17.929774)\">1</text>\n",
       "</svg>\n",
       "</td>\n",
       "</tr>\n",
       "</table>"
      ],
      "text/plain": [
       "dask.array<array, shape=(16,), dtype=uint8, chunksize=(16,), chunktype=numpy.ndarray>"
      ]
     },
     "execution_count": 17,
     "metadata": {},
     "output_type": "execute_result"
    }
   ],
   "source": [
    "da.from_array(zarray)"
   ]
  },
  {
   "cell_type": "code",
   "execution_count": 18,
   "id": "0a03b588-bd27-4a22-a164-139da46cc537",
   "metadata": {},
   "outputs": [
    {
     "data": {
      "text/html": [
       "<table>\n",
       "<tr>\n",
       "<td>\n",
       "<table>\n",
       "  <thead>\n",
       "    <tr><td> </td><th> Array </th><th> Chunk </th></tr>\n",
       "  </thead>\n",
       "  <tbody>\n",
       "    <tr><th> Bytes </th><td> 16 B </td> <td> 4 B </td></tr>\n",
       "    <tr><th> Shape </th><td> (16,) </td> <td> (4,) </td></tr>\n",
       "    <tr><th> Count </th><td> 5 Tasks </td><td> 4 Chunks </td></tr>\n",
       "    <tr><th> Type </th><td> uint8 </td><td> numpy.ndarray </td></tr>\n",
       "  </tbody>\n",
       "</table>\n",
       "</td>\n",
       "<td>\n",
       "<svg width=\"170\" height=\"85\" style=\"stroke:rgb(0,0,0);stroke-width:1\" >\n",
       "\n",
       "  <!-- Horizontal lines -->\n",
       "  <line x1=\"0\" y1=\"0\" x2=\"120\" y2=\"0\" style=\"stroke-width:2\" />\n",
       "  <line x1=\"0\" y1=\"35\" x2=\"120\" y2=\"35\" style=\"stroke-width:2\" />\n",
       "\n",
       "  <!-- Vertical lines -->\n",
       "  <line x1=\"0\" y1=\"0\" x2=\"0\" y2=\"35\" style=\"stroke-width:2\" />\n",
       "  <line x1=\"30\" y1=\"0\" x2=\"30\" y2=\"35\" />\n",
       "  <line x1=\"60\" y1=\"0\" x2=\"60\" y2=\"35\" />\n",
       "  <line x1=\"90\" y1=\"0\" x2=\"90\" y2=\"35\" />\n",
       "  <line x1=\"120\" y1=\"0\" x2=\"120\" y2=\"35\" style=\"stroke-width:2\" />\n",
       "\n",
       "  <!-- Colored Rectangle -->\n",
       "  <polygon points=\"0.0,0.0 120.0,0.0 120.0,35.85954734920875 0.0,35.85954734920875\" style=\"fill:#ECB172A0;stroke-width:0\"/>\n",
       "\n",
       "  <!-- Text -->\n",
       "  <text x=\"60.000000\" y=\"55.859547\" font-size=\"1.0rem\" font-weight=\"100\" text-anchor=\"middle\" >16</text>\n",
       "  <text x=\"140.000000\" y=\"17.929774\" font-size=\"1.0rem\" font-weight=\"100\" text-anchor=\"middle\" transform=\"rotate(0,140.000000,17.929774)\">1</text>\n",
       "</svg>\n",
       "</td>\n",
       "</tr>\n",
       "</table>"
      ],
      "text/plain": [
       "dask.array<from-zarr, shape=(16,), dtype=uint8, chunksize=(4,), chunktype=numpy.ndarray>"
      ]
     },
     "execution_count": 18,
     "metadata": {},
     "output_type": "execute_result"
    }
   ],
   "source": [
    "da.from_zarr('test.zarr', component='foo')"
   ]
  },
  {
   "cell_type": "code",
   "execution_count": 34,
   "id": "7110cc8a-69c3-4737-91be-24c948323b73",
   "metadata": {},
   "outputs": [],
   "source": [
    "# Create a zarr array\n",
    "import zarr\n",
    "import numpy as np\n",
    "\n",
    "data = np.arange(16, dtype='uint8').reshape(4,4) # 2D data\n",
    "\n",
    "store_flat = zarr.DirectoryStore('test_flat.zarr')\n",
    "zarray_flat = zarr.open(store_flat, # Root of the zarr hierarchy\n",
    "                  path='foo',  # Path to the array I am creating\n",
    "                  shape=data.shape,  # Array shape\n",
    "                  dtype=data.dtype, # Array datatype\n",
    "                  chunks=(2,2), # Array chunking\n",
    "                  mode='w') # Storage access mode\n",
    "\n",
    "zarray_flat[:] = 10"
   ]
  },
  {
   "cell_type": "code",
   "execution_count": 40,
   "id": "fa29284b-74f1-45c2-8ff3-53e82695800e",
   "metadata": {},
   "outputs": [
    {
     "name": "stdout",
     "output_type": "stream",
     "text": [
      "\u001b[01;34mtest_flat.zarr\u001b[00m\n",
      "├── .zgroup\n",
      "└── \u001b[01;34mfoo\u001b[00m\n",
      "    ├── .zarray\n",
      "    ├── 0.0\n",
      "    ├── 0.1\n",
      "    ├── 1.0\n",
      "    └── 1.1\n",
      "\n",
      "1 directory, 6 files\n"
     ]
    }
   ],
   "source": [
    "!tree -a test_flat.zarr"
   ]
  },
  {
   "cell_type": "code",
   "execution_count": 37,
   "id": "7ee33737-19e0-4b68-82b6-9568f5451458",
   "metadata": {},
   "outputs": [],
   "source": [
    "store_nested = zarr.NestedDirectoryStore('test_nested.zarr')\n",
    "zarray_nested = zarr.open(store_nested, # Root of the zarr hierarchy\n",
    "                  path='foo',  # Path to the array I am creating\n",
    "                  shape=data.shape,  # Array shape\n",
    "                  dtype=data.dtype, # Array datatype\n",
    "                  chunks=(2,2), # Array chunking\n",
    "                  mode='w') # Storage access mode\n",
    "\n",
    "zarray_nested[:] = 10"
   ]
  },
  {
   "cell_type": "code",
   "execution_count": 39,
   "id": "bc1559b0-1368-4895-a8a2-6290e6528ac1",
   "metadata": {},
   "outputs": [
    {
     "name": "stdout",
     "output_type": "stream",
     "text": [
      "\u001b[01;34mtest_nested.zarr\u001b[00m\n",
      "├── .zgroup\n",
      "└── \u001b[01;34mfoo\u001b[00m\n",
      "    ├── .zarray\n",
      "    ├── \u001b[01;34m0\u001b[00m\n",
      "    │   ├── 0\n",
      "    │   └── 1\n",
      "    └── \u001b[01;34m1\u001b[00m\n",
      "        ├── 0\n",
      "        └── 1\n",
      "\n",
      "3 directories, 6 files\n"
     ]
    }
   ],
   "source": [
    "!tree -a test_nested.zarr"
   ]
  },
  {
   "cell_type": "code",
   "execution_count": null,
   "id": "c651f52b-e52d-4134-a76d-8c9fe8aa99b4",
   "metadata": {},
   "outputs": [],
   "source": []
  }
 ],
 "metadata": {
  "kernelspec": {
   "display_name": "dask_zarr",
   "language": "python",
   "name": "dask_zarr"
  },
  "language_info": {
   "codemirror_mode": {
    "name": "ipython",
    "version": 3
   },
   "file_extension": ".py",
   "mimetype": "text/x-python",
   "name": "python",
   "nbconvert_exporter": "python",
   "pygments_lexer": "ipython3",
   "version": "3.8.10"
  }
 },
 "nbformat": 4,
 "nbformat_minor": 5
}
